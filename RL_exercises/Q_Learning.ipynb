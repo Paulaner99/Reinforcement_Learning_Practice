{
 "cells": [
  {
   "cell_type": "markdown",
   "id": "16c9d48b",
   "metadata": {},
   "source": [
    "# Self-Driving Cab"
   ]
  },
  {
   "cell_type": "markdown",
   "id": "979b2564",
   "metadata": {},
   "source": [
    "**PROBLEM STATEMENT**: There are 4 locations (labeled by different letters), and our job is to pick up the passenger at one location and drop him off at another. We receive +20 points for a successful drop-off and lose 1 point for every time-step it takes. There is also a 10 point penalty for illegal pick-up and drop-off actions."
   ]
  },
  {
   "cell_type": "code",
   "execution_count": 1,
   "id": "0449f136",
   "metadata": {},
   "outputs": [],
   "source": [
    "import gym\n",
    "\n",
    "import numpy as np\n",
    "import matplotlib.pyplot as plt\n",
    "\n",
    "from IPython.display import clear_output\n",
    "from time import sleep"
   ]
  },
  {
   "cell_type": "markdown",
   "id": "c0366b0c",
   "metadata": {},
   "source": [
    "### Import and Explore the environment"
   ]
  },
  {
   "cell_type": "code",
   "execution_count": 6,
   "id": "28b7042c",
   "metadata": {},
   "outputs": [],
   "source": [
    "env = gym.make(\"Taxi-v3\").env"
   ]
  },
  {
   "cell_type": "code",
   "execution_count": 7,
   "id": "7562cfe8",
   "metadata": {},
   "outputs": [
    {
     "name": "stdout",
     "output_type": "stream",
     "text": [
      "+---------+\n",
      "|\u001b[34;1mR\u001b[0m: | : :G|\n",
      "| : | : : |\n",
      "| : : : : |\n",
      "| | : | : |\n",
      "|Y| :\u001b[43m \u001b[0m|\u001b[35mB\u001b[0m: |\n",
      "+---------+\n",
      "\n",
      "Action Space Discrete(6)\n",
      "State Space Discrete(500)\n"
     ]
    }
   ],
   "source": [
    "env.reset() # reset environment to a new, random state\n",
    "env.render()\n",
    "\n",
    "print(\"Action Space {}\".format(env.action_space))\n",
    "print(\"State Space {}\".format(env.observation_space))"
   ]
  },
  {
   "cell_type": "markdown",
   "id": "ba5ced4a",
   "metadata": {},
   "source": [
    "## Q-Learning"
   ]
  },
  {
   "cell_type": "markdown",
   "id": "4bd5f523",
   "metadata": {},
   "source": [
    "In our Taxi environment, we have the reward table, P, which the agent will learn from. It works by trying to receive a reward for taking an action in the current state, then updating a **Q-value** (*state-action value*) to remind you if that action was beneficial.\n",
    "\n",
    "A **Q-value** for a particular state-action combination is representative of the \"quality\" of an action taken from that state. Better Q-values imply better chances of getting greater rewards."
   ]
  },
  {
   "cell_type": "code",
   "execution_count": 8,
   "id": "8582f451",
   "metadata": {},
   "outputs": [],
   "source": [
    "# PARAMETERS\n",
    "episodes = 10000\n",
    "\n",
    "EPSILON = 0.1\n",
    "ALPHA = 0.1\n",
    "GAMMA = 0.6"
   ]
  },
  {
   "cell_type": "code",
   "execution_count": 9,
   "id": "b67f2be9",
   "metadata": {},
   "outputs": [],
   "source": [
    "q_table = np.zeros((env.observation_space.n, env.action_space.n))"
   ]
  },
  {
   "cell_type": "code",
   "execution_count": 10,
   "id": "2cd3d672",
   "metadata": {},
   "outputs": [],
   "source": [
    "def train(env, q_table, episodes=1000, epsilon=0.1, alpha=0.1, gamma=0.6):\n",
    "    \n",
    "    rewards = []\n",
    "    \n",
    "    for episode in range(1, episodes+1):\n",
    "        \n",
    "        if episode % 1000 == 0:\n",
    "            print('Evaluating Episode: ', episode)\n",
    "            \n",
    "        state = env.reset()\n",
    "        done = False\n",
    "        \n",
    "        episode_reward = 0\n",
    "        while not done:\n",
    "\n",
    "            # ε-greedy policy\n",
    "            if np.random.uniform() < epsilon:\n",
    "                action = env.action_space.sample()\n",
    "            else:\n",
    "                action = np.argmax(q_table[state])\n",
    "\n",
    "            # Performing selected action\n",
    "            new_state, reward, done, _ = env.step(action)\n",
    "\n",
    "            # Q-learning update\n",
    "            q_table[state][action] += alpha * (reward + gamma * np.max(q_table[new_state]) - q_table[state][action])\n",
    "\n",
    "            episode_reward += reward\n",
    "            state = new_state\n",
    "            \n",
    "        rewards.append(episode_reward)\n",
    "        \n",
    "    return q_table, rewards"
   ]
  },
  {
   "cell_type": "code",
   "execution_count": 11,
   "id": "ac16f112",
   "metadata": {},
   "outputs": [
    {
     "name": "stdout",
     "output_type": "stream",
     "text": [
      "Evaluating Episode:  1000\n",
      "Evaluating Episode:  2000\n",
      "Evaluating Episode:  3000\n",
      "Evaluating Episode:  4000\n",
      "Evaluating Episode:  5000\n",
      "Evaluating Episode:  6000\n",
      "Evaluating Episode:  7000\n",
      "Evaluating Episode:  8000\n",
      "Evaluating Episode:  9000\n",
      "Evaluating Episode:  10000\n"
     ]
    }
   ],
   "source": [
    "q_table, reward_history = train(env, q_table, episodes=episodes, epsilon=EPSILON, alpha=ALPHA, gamma=GAMMA)"
   ]
  },
  {
   "cell_type": "code",
   "execution_count": 12,
   "id": "579ab2e9",
   "metadata": {},
   "outputs": [
    {
     "data": {
      "image/png": "[encoded data removed]",
      "text/plain": [
       "<Figure size 640x480 with 1 Axes>"
      ]
     },
     "metadata": {},
     "output_type": "display_data"
    }
   ],
   "source": [
    "plt.plot(range(1, episodes+1), reward_history)\n",
    "#plt.ylim([-500, None])\n",
    "plt.show()"
   ]
  },
  {
   "cell_type": "markdown",
   "id": "71fe4e26",
   "metadata": {},
   "source": [
    "## Test"
   ]
  },
  {
   "cell_type": "code",
   "execution_count": 13,
   "id": "d74d50c9",
   "metadata": {},
   "outputs": [
    {
     "name": "stdout",
     "output_type": "stream",
     "text": [
      "Average Steps per episode: 11.54\n"
     ]
    }
   ],
   "source": [
    "test_episodes = 1000\n",
    "\n",
    "tot_steps = 0\n",
    "tot_penalities = 0\n",
    "\n",
    "for episode in range(1, test_episodes+1):\n",
    "    \n",
    "    state = env.reset()\n",
    "    done = False\n",
    "    \n",
    "    steps = 0\n",
    "    while not done:\n",
    "        \n",
    "        # Stucked\n",
    "        if steps == 100:\n",
    "            tot_steps -= 100\n",
    "            break\n",
    "\n",
    "        # Action selection\n",
    "        action = np.argmax(q_table[state])\n",
    "        \n",
    "        # Performing selected action\n",
    "        new_state, reward, done, _ = env.step(action)\n",
    "        \n",
    "        if reward == -10:\n",
    "            tot_penalities += 1\n",
    "            \n",
    "        tot_steps += 1\n",
    "        steps += 1\n",
    "        \n",
    "        state = new_state\n",
    "    \n",
    "print(f'Average Steps per episode: {(tot_steps / test_episodes):.2f}')"
   ]
  },
  {
   "cell_type": "code",
   "execution_count": 14,
   "id": "a73e2145",
   "metadata": {},
   "outputs": [
    {
     "name": "stdout",
     "output_type": "stream",
     "text": [
      "+---------+\n",
      "|R: | : :G|\n",
      "| : | : : |\n",
      "| : : : : |\n",
      "| | : | : |\n",
      "|\u001b[35m\u001b[42mY\u001b[0m\u001b[0m| : |B: |\n",
      "+---------+\n",
      "  (South)\n"
     ]
    }
   ],
   "source": [
    "for episode in range(5):\n",
    "    \n",
    "    state = env.reset()\n",
    "    done = False\n",
    "    \n",
    "    steps = 0\n",
    "    while not done and steps < 30:\n",
    "        env.render('human')\n",
    "        sleep(.1)\n",
    "        clear_output(wait=True)\n",
    "\n",
    "        # Action selection\n",
    "        action = np.argmax(q_table[state])\n",
    "        \n",
    "        # Performing selected action\n",
    "        new_state, reward, done, _ = env.step(action)\n",
    "        \n",
    "        if reward == -10:\n",
    "            tot_penalities += 1\n",
    "            \n",
    "        tot_steps += 1\n",
    "        steps += 1\n",
    "        \n",
    "        state = new_state\n",
    "    \n",
    "    sleep(2)"
   ]
  }
 ],
 "metadata": {
  "kernelspec": {
   "display_name": "Python 3 (ipykernel)",
   "language": "python",
   "name": "python3"
  },
  "language_info": {
   "codemirror_mode": {
    "name": "ipython",
    "version": 3
   },
   "file_extension": ".py",
   "mimetype": "text/x-python",
   "name": "python",
   "nbconvert_exporter": "python",
   "pygments_lexer": "ipython3",
   "version": "3.9.12"
  }
 },
 "nbformat": 4,
 "nbformat_minor": 5
}
