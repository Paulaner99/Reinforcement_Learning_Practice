{
 "cells": [
  {
   "cell_type": "markdown",
   "id": "152fceba",
   "metadata": {},
   "source": [
    "## Import Dependencies"
   ]
  },
  {
   "cell_type": "code",
   "execution_count": 14,
   "id": "f437bcd7",
   "metadata": {},
   "outputs": [],
   "source": [
    "import gym\n",
    "\n",
    "import numpy as np\n",
    "import tensorflow as tf\n",
    "import tensorflow.keras as ks\n",
    "import os"
   ]
  },
  {
   "cell_type": "markdown",
   "id": "659ffc14",
   "metadata": {},
   "source": [
    "## Environment creation"
   ]
  },
  {
   "cell_type": "markdown",
   "id": "04e886a9",
   "metadata": {},
   "source": [
    "A pole is attached by an un-actuated joint to a cart, which moves along a frictionless track. The pendulum is placed upright on the cart and the goal is to balance the pole by applying forces in the left and right direction on the cart."
   ]
  },
  {
   "cell_type": "code",
   "execution_count": 15,
   "id": "8ca12007",
   "metadata": {},
   "outputs": [
    {
     "data": {
      "text/plain": [
       "[14]"
      ]
     },
     "execution_count": 15,
     "metadata": {},
     "output_type": "execute_result"
    }
   ],
   "source": [
    "seed = 14\n",
    "env = gym.make(\"CartPole-v0\")\n",
    "env.seed(seed)"
   ]
  },
  {
   "cell_type": "markdown",
   "id": "35ece459",
   "metadata": {},
   "source": [
    "## Define the Actor-Critic network"
   ]
  },
  {
   "cell_type": "markdown",
   "id": "dd44822d",
   "metadata": {},
   "source": [
    "As an agent takes actions and moves through an environment, it learns to map the observed state of the environment to two possible outputs: \n",
    "\n",
    "1. **Recommended action**: A probability value for each action in the action space. The part of the agent responsible for this output is called the **actor**. \n",
    "\n",
    "2. **Estimated rewards in the future**: Sum of all rewards it expects to receive in the future. The part of the agent responsible for this output is the **critic**. \n",
    "\n",
    "Agent and Critic learn to perform their tasks, such that the recommended actions from **the actor maximize the rewards**."
   ]
  },
  {
   "cell_type": "code",
   "execution_count": 16,
   "id": "fe0c0925",
   "metadata": {},
   "outputs": [],
   "source": [
    "input_shape = env.observation_space.shape\n",
    "num_actions = env.action_space.n\n",
    "\n",
    "def actor_critic(input_shape):\n",
    "    \n",
    "    inputs = ks.layers.Input(input_shape)\n",
    "    \n",
    "    # Common layer\n",
    "    x = ks.layers.Dense(128, activation=\"relu\")(inputs)\n",
    "    \n",
    "    # Actor\n",
    "    actor = ks.layers.Dense(num_actions, activation=\"softmax\")(x)\n",
    "    \n",
    "    # Critic\n",
    "    critic = ks.layers.Dense(1)(x)\n",
    "    \n",
    "    model = ks.Model(inputs=inputs, outputs=[actor, critic])\n",
    "    \n",
    "    return model\n",
    "\n",
    "\n",
    "model = actor_critic(input_shape)\n",
    "\n",
    "# Optimizer and Loss function selection\n",
    "optimizer = ks.optimizers.Adam(learning_rate=1e-2)\n",
    "huber_loss = ks.losses.Huber()"
   ]
  },
  {
   "cell_type": "markdown",
   "id": "4975379e",
   "metadata": {},
   "source": [
    "## Training"
   ]
  },
  {
   "cell_type": "markdown",
   "id": "53cc419d",
   "metadata": {},
   "source": [
    "To train the agent, you will follow these steps:\n",
    "\n",
    "1. Run the agent on the environment to **collect training data** per episode.\n",
    "2. Compute **expected return** at each time step.\n",
    "3. **Compute the loss** for the combined actor-critic model.\n",
    "4. Compute gradients and **update network** parameters.\n",
    "5. Repeat 1-4 until either success criterion or max episodes has been reached."
   ]
  },
  {
   "cell_type": "code",
   "execution_count": 17,
   "id": "32bbb523",
   "metadata": {},
   "outputs": [],
   "source": [
    "# PARAMETERS\n",
    "episodes = 100\n",
    "max_steps_per_episode = 10000\n",
    "\n",
    "gamma = 0.99  #Discount factor\n",
    "\n",
    "eps = np.finfo(np.float32).eps.item()  # Smallest number such that 1.0 + eps != 1.0"
   ]
  },
  {
   "cell_type": "code",
   "execution_count": 18,
   "id": "6162076a",
   "metadata": {},
   "outputs": [],
   "source": [
    "action_probs_history = []\n",
    "critic_value_history = []\n",
    "\n",
    "reward_history = []\n",
    "running_reward = 0"
   ]
  },
  {
   "cell_type": "code",
   "execution_count": 19,
   "id": "7cf62d2e",
   "metadata": {},
   "outputs": [
    {
     "name": "stdout",
     "output_type": "stream",
     "text": [
      "running reward: 9.54 at episode 10\n",
      "running reward: 21.77 at episode 20\n",
      "running reward: 32.51 at episode 30\n",
      "running reward: 34.57 at episode 40\n",
      "running reward: 37.97 at episode 50\n",
      "running reward: 68.99 at episode 60\n",
      "running reward: 50.89 at episode 70\n",
      "running reward: 44.06 at episode 80\n",
      "running reward: 67.44 at episode 90\n",
      "running reward: 111.75 at episode 100\n"
     ]
    }
   ],
   "source": [
    "for episode in range(1, episodes+1):\n",
    "    \n",
    "    state = env.reset()\n",
    "    done = False\n",
    "    episode_reward = 0\n",
    "\n",
    "    with tf.GradientTape() as tape:\n",
    "        \n",
    "        # Generate episode\n",
    "        for step in range(1, max_steps_per_episode):\n",
    "\n",
    "            env.render()\n",
    "            \n",
    "            state = tf.convert_to_tensor(state)\n",
    "            state = tf.expand_dims(state, 0)\n",
    "\n",
    "            # Evaluate action probs and estimate reward\n",
    "            action_probs, critic_value = model(state)\n",
    "            critic_value_history.append(critic_value[0, 0])\n",
    "\n",
    "            # Choose the action\n",
    "            action = np.random.choice(num_actions, p=np.squeeze(action_probs))\n",
    "            action_probs_history.append(tf.math.log(action_probs[0, action]))\n",
    "\n",
    "            # Apply action to the environment\n",
    "            state, reward, done, _ = env.step(action)\n",
    "            reward_history.append(reward)\n",
    "            episode_reward += reward\n",
    "\n",
    "            if done:\n",
    "                break\n",
    "            \n",
    "        running_reward = 0.05 * episode_reward + (1 - 0.05) * running_reward\n",
    "        \n",
    "        # Calculate expected value from rewards\n",
    "        returns = []\n",
    "        discounted_sum = 0\n",
    "        for r in reward_history[::-1]:\n",
    "            discounted_sum = r + gamma * discounted_sum\n",
    "            returns.insert(0, discounted_sum)\n",
    "            \n",
    "        # Normalize\n",
    "        returns = np.array(returns)\n",
    "        returns = (returns - np.mean(returns)) / (np.std(returns) + eps)\n",
    "        returns = returns.tolist()\n",
    "        \n",
    "        history = zip(action_probs_history, critic_value_history, returns)\n",
    "        actor_losses = []\n",
    "        critic_losses = []\n",
    "        \n",
    "        for log_prob, value, ret in history:\n",
    "            diff = ret - value\n",
    "            actor_losses.append(-log_prob * diff)\n",
    "            critic_losses.append(huber_loss(tf.expand_dims(value, 0), tf.expand_dims(ret, 0)))\n",
    "            \n",
    "        # Backpropagation\n",
    "        total_loss = sum(actor_losses) + sum(critic_losses)\n",
    "        grads = tape.gradient(total_loss, model.trainable_variables)\n",
    "        optimizer.apply_gradients(zip(grads, model.trainable_variables))\n",
    "        \n",
    "        # Clear the loss and reward history\n",
    "        action_probs_history.clear()\n",
    "        critic_value_history.clear()\n",
    "        reward_history.clear()\n",
    "        \n",
    "    # Log details\n",
    "    if episode % 10 == 0:\n",
    "        print(f'running reward: {running_reward:.2f} at episode {episode}')\n",
    "        \n",
    "env.close()"
   ]
  },
  {
   "cell_type": "code",
   "execution_count": null,
   "id": "e790f906",
   "metadata": {},
   "outputs": [],
   "source": []
  }
 ],
 "metadata": {
  "kernelspec": {
   "display_name": "Python 3 (ipykernel)",
   "language": "python",
   "name": "python3"
  },
  "language_info": {
   "codemirror_mode": {
    "name": "ipython",
    "version": 3
   },
   "file_extension": ".py",
   "mimetype": "text/x-python",
   "name": "python",
   "nbconvert_exporter": "python",
   "pygments_lexer": "ipython3",
   "version": "3.9.12"
  }
 },
 "nbformat": 4,
 "nbformat_minor": 5
}
